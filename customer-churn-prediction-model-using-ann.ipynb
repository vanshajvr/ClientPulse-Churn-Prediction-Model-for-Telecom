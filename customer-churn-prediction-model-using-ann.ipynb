{
 "cells": [
  {
   "cell_type": "code",
   "execution_count": 1,
   "id": "c6e845e9",
   "metadata": {
    "_cell_guid": "b1076dfc-b9ad-4769-8c92-a6c4dae69d19",
    "_uuid": "8f2839f25d086af736a60e9eeb907d3b93b6e0e5",
    "execution": {
     "iopub.execute_input": "2025-05-24T15:08:08.845443Z",
     "iopub.status.busy": "2025-05-24T15:08:08.844637Z",
     "iopub.status.idle": "2025-05-24T15:08:10.632078Z",
     "shell.execute_reply": "2025-05-24T15:08:10.631150Z"
    },
    "papermill": {
     "duration": 1.796027,
     "end_time": "2025-05-24T15:08:10.633468",
     "exception": false,
     "start_time": "2025-05-24T15:08:08.837441",
     "status": "completed"
    },
    "tags": []
   },
   "outputs": [
    {
     "name": "stdout",
     "output_type": "stream",
     "text": [
      "/kaggle/input/credit-card-customer-churn-prediction/Churn_Modelling.csv\n"
     ]
    }
   ],
   "source": [
    "# This Python 3 environment comes with many helpful analytics libraries installed\n",
    "# It is defined by the kaggle/python Docker image: https://github.com/kaggle/docker-python\n",
    "# For example, here's several helpful packages to load\n",
    "\n",
    "import numpy as np # linear algebra\n",
    "import pandas as pd # data processing, CSV file I/O (e.g. pd.read_csv)\n",
    "\n",
    "# Input data files are available in the read-only \"../input/\" directory\n",
    "# For example, running this (by clicking run or pressing Shift+Enter) will list all files under the input directory\n",
    "\n",
    "import os\n",
    "for dirname, _, filenames in os.walk('/kaggle/input'):\n",
    "    for filename in filenames:\n",
    "        print(os.path.join(dirname, filename))\n",
    "\n",
    "# You can write up to 20GB to the current directory (/kaggle/working/) that gets preserved as output when you create a version using \"Save & Run All\" \n",
    "# You can also write temporary files to /kaggle/temp/, but they won't be saved outside of the current session"
   ]
  },
  {
   "cell_type": "code",
   "execution_count": 2,
   "id": "7a887475",
   "metadata": {
    "execution": {
     "iopub.execute_input": "2025-05-24T15:08:10.645207Z",
     "iopub.status.busy": "2025-05-24T15:08:10.644813Z",
     "iopub.status.idle": "2025-05-24T15:08:10.688506Z",
     "shell.execute_reply": "2025-05-24T15:08:10.687687Z"
    },
    "papermill": {
     "duration": 0.051111,
     "end_time": "2025-05-24T15:08:10.690134",
     "exception": false,
     "start_time": "2025-05-24T15:08:10.639023",
     "status": "completed"
    },
    "tags": []
   },
   "outputs": [],
   "source": [
    "df=pd.read_csv('/kaggle/input/credit-card-customer-churn-prediction/Churn_Modelling.csv')"
   ]
  },
  {
   "cell_type": "code",
   "execution_count": 3,
   "id": "d940e0f0",
   "metadata": {
    "execution": {
     "iopub.execute_input": "2025-05-24T15:08:10.702579Z",
     "iopub.status.busy": "2025-05-24T15:08:10.702293Z",
     "iopub.status.idle": "2025-05-24T15:08:10.728389Z",
     "shell.execute_reply": "2025-05-24T15:08:10.727204Z"
    },
    "papermill": {
     "duration": 0.034128,
     "end_time": "2025-05-24T15:08:10.729912",
     "exception": false,
     "start_time": "2025-05-24T15:08:10.695784",
     "status": "completed"
    },
    "tags": []
   },
   "outputs": [
    {
     "data": {
      "text/html": [
       "<div>\n",
       "<style scoped>\n",
       "    .dataframe tbody tr th:only-of-type {\n",
       "        vertical-align: middle;\n",
       "    }\n",
       "\n",
       "    .dataframe tbody tr th {\n",
       "        vertical-align: top;\n",
       "    }\n",
       "\n",
       "    .dataframe thead th {\n",
       "        text-align: right;\n",
       "    }\n",
       "</style>\n",
       "<table border=\"1\" class=\"dataframe\">\n",
       "  <thead>\n",
       "    <tr style=\"text-align: right;\">\n",
       "      <th></th>\n",
       "      <th>RowNumber</th>\n",
       "      <th>CustomerId</th>\n",
       "      <th>Surname</th>\n",
       "      <th>CreditScore</th>\n",
       "      <th>Geography</th>\n",
       "      <th>Gender</th>\n",
       "      <th>Age</th>\n",
       "      <th>Tenure</th>\n",
       "      <th>Balance</th>\n",
       "      <th>NumOfProducts</th>\n",
       "      <th>HasCrCard</th>\n",
       "      <th>IsActiveMember</th>\n",
       "      <th>EstimatedSalary</th>\n",
       "      <th>Exited</th>\n",
       "    </tr>\n",
       "  </thead>\n",
       "  <tbody>\n",
       "    <tr>\n",
       "      <th>0</th>\n",
       "      <td>1</td>\n",
       "      <td>15634602</td>\n",
       "      <td>Hargrave</td>\n",
       "      <td>619</td>\n",
       "      <td>France</td>\n",
       "      <td>Female</td>\n",
       "      <td>42</td>\n",
       "      <td>2</td>\n",
       "      <td>0.00</td>\n",
       "      <td>1</td>\n",
       "      <td>1</td>\n",
       "      <td>1</td>\n",
       "      <td>101348.88</td>\n",
       "      <td>1</td>\n",
       "    </tr>\n",
       "    <tr>\n",
       "      <th>1</th>\n",
       "      <td>2</td>\n",
       "      <td>15647311</td>\n",
       "      <td>Hill</td>\n",
       "      <td>608</td>\n",
       "      <td>Spain</td>\n",
       "      <td>Female</td>\n",
       "      <td>41</td>\n",
       "      <td>1</td>\n",
       "      <td>83807.86</td>\n",
       "      <td>1</td>\n",
       "      <td>0</td>\n",
       "      <td>1</td>\n",
       "      <td>112542.58</td>\n",
       "      <td>0</td>\n",
       "    </tr>\n",
       "    <tr>\n",
       "      <th>2</th>\n",
       "      <td>3</td>\n",
       "      <td>15619304</td>\n",
       "      <td>Onio</td>\n",
       "      <td>502</td>\n",
       "      <td>France</td>\n",
       "      <td>Female</td>\n",
       "      <td>42</td>\n",
       "      <td>8</td>\n",
       "      <td>159660.80</td>\n",
       "      <td>3</td>\n",
       "      <td>1</td>\n",
       "      <td>0</td>\n",
       "      <td>113931.57</td>\n",
       "      <td>1</td>\n",
       "    </tr>\n",
       "    <tr>\n",
       "      <th>3</th>\n",
       "      <td>4</td>\n",
       "      <td>15701354</td>\n",
       "      <td>Boni</td>\n",
       "      <td>699</td>\n",
       "      <td>France</td>\n",
       "      <td>Female</td>\n",
       "      <td>39</td>\n",
       "      <td>1</td>\n",
       "      <td>0.00</td>\n",
       "      <td>2</td>\n",
       "      <td>0</td>\n",
       "      <td>0</td>\n",
       "      <td>93826.63</td>\n",
       "      <td>0</td>\n",
       "    </tr>\n",
       "    <tr>\n",
       "      <th>4</th>\n",
       "      <td>5</td>\n",
       "      <td>15737888</td>\n",
       "      <td>Mitchell</td>\n",
       "      <td>850</td>\n",
       "      <td>Spain</td>\n",
       "      <td>Female</td>\n",
       "      <td>43</td>\n",
       "      <td>2</td>\n",
       "      <td>125510.82</td>\n",
       "      <td>1</td>\n",
       "      <td>1</td>\n",
       "      <td>1</td>\n",
       "      <td>79084.10</td>\n",
       "      <td>0</td>\n",
       "    </tr>\n",
       "  </tbody>\n",
       "</table>\n",
       "</div>"
      ],
      "text/plain": [
       "   RowNumber  CustomerId   Surname  CreditScore Geography  Gender  Age  \\\n",
       "0          1    15634602  Hargrave          619    France  Female   42   \n",
       "1          2    15647311      Hill          608     Spain  Female   41   \n",
       "2          3    15619304      Onio          502    France  Female   42   \n",
       "3          4    15701354      Boni          699    France  Female   39   \n",
       "4          5    15737888  Mitchell          850     Spain  Female   43   \n",
       "\n",
       "   Tenure    Balance  NumOfProducts  HasCrCard  IsActiveMember  \\\n",
       "0       2       0.00              1          1               1   \n",
       "1       1   83807.86              1          0               1   \n",
       "2       8  159660.80              3          1               0   \n",
       "3       1       0.00              2          0               0   \n",
       "4       2  125510.82              1          1               1   \n",
       "\n",
       "   EstimatedSalary  Exited  \n",
       "0        101348.88       1  \n",
       "1        112542.58       0  \n",
       "2        113931.57       1  \n",
       "3         93826.63       0  \n",
       "4         79084.10       0  "
      ]
     },
     "execution_count": 3,
     "metadata": {},
     "output_type": "execute_result"
    }
   ],
   "source": [
    "df.head()\n"
   ]
  },
  {
   "cell_type": "code",
   "execution_count": 4,
   "id": "f2b35671",
   "metadata": {
    "execution": {
     "iopub.execute_input": "2025-05-24T15:08:10.741788Z",
     "iopub.status.busy": "2025-05-24T15:08:10.741544Z",
     "iopub.status.idle": "2025-05-24T15:08:10.746782Z",
     "shell.execute_reply": "2025-05-24T15:08:10.746096Z"
    },
    "papermill": {
     "duration": 0.012669,
     "end_time": "2025-05-24T15:08:10.748135",
     "exception": false,
     "start_time": "2025-05-24T15:08:10.735466",
     "status": "completed"
    },
    "tags": []
   },
   "outputs": [
    {
     "data": {
      "text/plain": [
       "(10000, 14)"
      ]
     },
     "execution_count": 4,
     "metadata": {},
     "output_type": "execute_result"
    }
   ],
   "source": [
    "df.shape"
   ]
  },
  {
   "cell_type": "code",
   "execution_count": 5,
   "id": "a2ac581f",
   "metadata": {
    "execution": {
     "iopub.execute_input": "2025-05-24T15:08:10.759552Z",
     "iopub.status.busy": "2025-05-24T15:08:10.759332Z",
     "iopub.status.idle": "2025-05-24T15:08:10.784066Z",
     "shell.execute_reply": "2025-05-24T15:08:10.783022Z"
    },
    "papermill": {
     "duration": 0.031998,
     "end_time": "2025-05-24T15:08:10.785521",
     "exception": false,
     "start_time": "2025-05-24T15:08:10.753523",
     "status": "completed"
    },
    "tags": []
   },
   "outputs": [
    {
     "name": "stdout",
     "output_type": "stream",
     "text": [
      "<class 'pandas.core.frame.DataFrame'>\n",
      "RangeIndex: 10000 entries, 0 to 9999\n",
      "Data columns (total 14 columns):\n",
      " #   Column           Non-Null Count  Dtype  \n",
      "---  ------           --------------  -----  \n",
      " 0   RowNumber        10000 non-null  int64  \n",
      " 1   CustomerId       10000 non-null  int64  \n",
      " 2   Surname          10000 non-null  object \n",
      " 3   CreditScore      10000 non-null  int64  \n",
      " 4   Geography        10000 non-null  object \n",
      " 5   Gender           10000 non-null  object \n",
      " 6   Age              10000 non-null  int64  \n",
      " 7   Tenure           10000 non-null  int64  \n",
      " 8   Balance          10000 non-null  float64\n",
      " 9   NumOfProducts    10000 non-null  int64  \n",
      " 10  HasCrCard        10000 non-null  int64  \n",
      " 11  IsActiveMember   10000 non-null  int64  \n",
      " 12  EstimatedSalary  10000 non-null  float64\n",
      " 13  Exited           10000 non-null  int64  \n",
      "dtypes: float64(2), int64(9), object(3)\n",
      "memory usage: 1.1+ MB\n"
     ]
    }
   ],
   "source": [
    "df.info()"
   ]
  },
  {
   "cell_type": "code",
   "execution_count": 6,
   "id": "60b9ddba",
   "metadata": {
    "execution": {
     "iopub.execute_input": "2025-05-24T15:08:10.797573Z",
     "iopub.status.busy": "2025-05-24T15:08:10.797279Z",
     "iopub.status.idle": "2025-05-24T15:08:10.809913Z",
     "shell.execute_reply": "2025-05-24T15:08:10.808942Z"
    },
    "papermill": {
     "duration": 0.02014,
     "end_time": "2025-05-24T15:08:10.811244",
     "exception": false,
     "start_time": "2025-05-24T15:08:10.791104",
     "status": "completed"
    },
    "tags": []
   },
   "outputs": [
    {
     "data": {
      "text/plain": [
       "0"
      ]
     },
     "execution_count": 6,
     "metadata": {},
     "output_type": "execute_result"
    }
   ],
   "source": [
    "df.duplicated().sum()\n",
    "#this tells no of duplicated values in the dataset."
   ]
  },
  {
   "cell_type": "code",
   "execution_count": 7,
   "id": "513f892a",
   "metadata": {
    "execution": {
     "iopub.execute_input": "2025-05-24T15:08:10.823139Z",
     "iopub.status.busy": "2025-05-24T15:08:10.822821Z",
     "iopub.status.idle": "2025-05-24T15:08:10.830972Z",
     "shell.execute_reply": "2025-05-24T15:08:10.830111Z"
    },
    "papermill": {
     "duration": 0.015678,
     "end_time": "2025-05-24T15:08:10.832295",
     "exception": false,
     "start_time": "2025-05-24T15:08:10.816617",
     "status": "completed"
    },
    "tags": []
   },
   "outputs": [
    {
     "data": {
      "text/plain": [
       "Exited\n",
       "0    7963\n",
       "1    2037\n",
       "Name: count, dtype: int64"
      ]
     },
     "execution_count": 7,
     "metadata": {},
     "output_type": "execute_result"
    }
   ],
   "source": [
    "df['Exited'].value_counts()"
   ]
  },
  {
   "cell_type": "code",
   "execution_count": 8,
   "id": "244951eb",
   "metadata": {
    "execution": {
     "iopub.execute_input": "2025-05-24T15:08:10.844351Z",
     "iopub.status.busy": "2025-05-24T15:08:10.844090Z",
     "iopub.status.idle": "2025-05-24T15:08:10.851827Z",
     "shell.execute_reply": "2025-05-24T15:08:10.850914Z"
    },
    "papermill": {
     "duration": 0.015182,
     "end_time": "2025-05-24T15:08:10.853184",
     "exception": false,
     "start_time": "2025-05-24T15:08:10.838002",
     "status": "completed"
    },
    "tags": []
   },
   "outputs": [
    {
     "data": {
      "text/plain": [
       "Geography\n",
       "France     5014\n",
       "Germany    2509\n",
       "Spain      2477\n",
       "Name: count, dtype: int64"
      ]
     },
     "execution_count": 8,
     "metadata": {},
     "output_type": "execute_result"
    }
   ],
   "source": [
    "df['Geography'].value_counts()"
   ]
  },
  {
   "cell_type": "code",
   "execution_count": 9,
   "id": "bd3e6280",
   "metadata": {
    "execution": {
     "iopub.execute_input": "2025-05-24T15:08:10.865729Z",
     "iopub.status.busy": "2025-05-24T15:08:10.865034Z",
     "iopub.status.idle": "2025-05-24T15:08:10.872571Z",
     "shell.execute_reply": "2025-05-24T15:08:10.871910Z"
    },
    "papermill": {
     "duration": 0.014962,
     "end_time": "2025-05-24T15:08:10.873779",
     "exception": false,
     "start_time": "2025-05-24T15:08:10.858817",
     "status": "completed"
    },
    "tags": []
   },
   "outputs": [
    {
     "data": {
      "text/plain": [
       "Gender\n",
       "Male      5457\n",
       "Female    4543\n",
       "Name: count, dtype: int64"
      ]
     },
     "execution_count": 9,
     "metadata": {},
     "output_type": "execute_result"
    }
   ],
   "source": [
    "df['Gender'].value_counts()"
   ]
  },
  {
   "cell_type": "code",
   "execution_count": 10,
   "id": "636a0e06",
   "metadata": {
    "execution": {
     "iopub.execute_input": "2025-05-24T15:08:10.886203Z",
     "iopub.status.busy": "2025-05-24T15:08:10.885937Z",
     "iopub.status.idle": "2025-05-24T15:08:10.893978Z",
     "shell.execute_reply": "2025-05-24T15:08:10.893293Z"
    },
    "papermill": {
     "duration": 0.015841,
     "end_time": "2025-05-24T15:08:10.895393",
     "exception": false,
     "start_time": "2025-05-24T15:08:10.879552",
     "status": "completed"
    },
    "tags": []
   },
   "outputs": [],
   "source": [
    "df.drop(columns=['RowNumber','CustomerId','Surname'],inplace=True)\n",
    "#inplace=true means it will modify the existing database rather than creating a new one\n",
    "#we dropped unnecessary features that will ease up our load later."
   ]
  },
  {
   "cell_type": "code",
   "execution_count": 11,
   "id": "30c4e492",
   "metadata": {
    "execution": {
     "iopub.execute_input": "2025-05-24T15:08:10.908625Z",
     "iopub.status.busy": "2025-05-24T15:08:10.908319Z",
     "iopub.status.idle": "2025-05-24T15:08:10.919667Z",
     "shell.execute_reply": "2025-05-24T15:08:10.918903Z"
    },
    "papermill": {
     "duration": 0.018963,
     "end_time": "2025-05-24T15:08:10.920878",
     "exception": false,
     "start_time": "2025-05-24T15:08:10.901915",
     "status": "completed"
    },
    "tags": []
   },
   "outputs": [
    {
     "data": {
      "text/html": [
       "<div>\n",
       "<style scoped>\n",
       "    .dataframe tbody tr th:only-of-type {\n",
       "        vertical-align: middle;\n",
       "    }\n",
       "\n",
       "    .dataframe tbody tr th {\n",
       "        vertical-align: top;\n",
       "    }\n",
       "\n",
       "    .dataframe thead th {\n",
       "        text-align: right;\n",
       "    }\n",
       "</style>\n",
       "<table border=\"1\" class=\"dataframe\">\n",
       "  <thead>\n",
       "    <tr style=\"text-align: right;\">\n",
       "      <th></th>\n",
       "      <th>CreditScore</th>\n",
       "      <th>Geography</th>\n",
       "      <th>Gender</th>\n",
       "      <th>Age</th>\n",
       "      <th>Tenure</th>\n",
       "      <th>Balance</th>\n",
       "      <th>NumOfProducts</th>\n",
       "      <th>HasCrCard</th>\n",
       "      <th>IsActiveMember</th>\n",
       "      <th>EstimatedSalary</th>\n",
       "      <th>Exited</th>\n",
       "    </tr>\n",
       "  </thead>\n",
       "  <tbody>\n",
       "    <tr>\n",
       "      <th>0</th>\n",
       "      <td>619</td>\n",
       "      <td>France</td>\n",
       "      <td>Female</td>\n",
       "      <td>42</td>\n",
       "      <td>2</td>\n",
       "      <td>0.00</td>\n",
       "      <td>1</td>\n",
       "      <td>1</td>\n",
       "      <td>1</td>\n",
       "      <td>101348.88</td>\n",
       "      <td>1</td>\n",
       "    </tr>\n",
       "    <tr>\n",
       "      <th>1</th>\n",
       "      <td>608</td>\n",
       "      <td>Spain</td>\n",
       "      <td>Female</td>\n",
       "      <td>41</td>\n",
       "      <td>1</td>\n",
       "      <td>83807.86</td>\n",
       "      <td>1</td>\n",
       "      <td>0</td>\n",
       "      <td>1</td>\n",
       "      <td>112542.58</td>\n",
       "      <td>0</td>\n",
       "    </tr>\n",
       "    <tr>\n",
       "      <th>2</th>\n",
       "      <td>502</td>\n",
       "      <td>France</td>\n",
       "      <td>Female</td>\n",
       "      <td>42</td>\n",
       "      <td>8</td>\n",
       "      <td>159660.80</td>\n",
       "      <td>3</td>\n",
       "      <td>1</td>\n",
       "      <td>0</td>\n",
       "      <td>113931.57</td>\n",
       "      <td>1</td>\n",
       "    </tr>\n",
       "    <tr>\n",
       "      <th>3</th>\n",
       "      <td>699</td>\n",
       "      <td>France</td>\n",
       "      <td>Female</td>\n",
       "      <td>39</td>\n",
       "      <td>1</td>\n",
       "      <td>0.00</td>\n",
       "      <td>2</td>\n",
       "      <td>0</td>\n",
       "      <td>0</td>\n",
       "      <td>93826.63</td>\n",
       "      <td>0</td>\n",
       "    </tr>\n",
       "    <tr>\n",
       "      <th>4</th>\n",
       "      <td>850</td>\n",
       "      <td>Spain</td>\n",
       "      <td>Female</td>\n",
       "      <td>43</td>\n",
       "      <td>2</td>\n",
       "      <td>125510.82</td>\n",
       "      <td>1</td>\n",
       "      <td>1</td>\n",
       "      <td>1</td>\n",
       "      <td>79084.10</td>\n",
       "      <td>0</td>\n",
       "    </tr>\n",
       "  </tbody>\n",
       "</table>\n",
       "</div>"
      ],
      "text/plain": [
       "   CreditScore Geography  Gender  Age  Tenure    Balance  NumOfProducts  \\\n",
       "0          619    France  Female   42       2       0.00              1   \n",
       "1          608     Spain  Female   41       1   83807.86              1   \n",
       "2          502    France  Female   42       8  159660.80              3   \n",
       "3          699    France  Female   39       1       0.00              2   \n",
       "4          850     Spain  Female   43       2  125510.82              1   \n",
       "\n",
       "   HasCrCard  IsActiveMember  EstimatedSalary  Exited  \n",
       "0          1               1        101348.88       1  \n",
       "1          0               1        112542.58       0  \n",
       "2          1               0        113931.57       1  \n",
       "3          0               0         93826.63       0  \n",
       "4          1               1         79084.10       0  "
      ]
     },
     "execution_count": 11,
     "metadata": {},
     "output_type": "execute_result"
    }
   ],
   "source": [
    "df.head()"
   ]
  },
  {
   "cell_type": "code",
   "execution_count": 12,
   "id": "cce2112a",
   "metadata": {
    "execution": {
     "iopub.execute_input": "2025-05-24T15:08:10.934240Z",
     "iopub.status.busy": "2025-05-24T15:08:10.933928Z",
     "iopub.status.idle": "2025-05-24T15:08:10.944357Z",
     "shell.execute_reply": "2025-05-24T15:08:10.943698Z"
    },
    "papermill": {
     "duration": 0.018637,
     "end_time": "2025-05-24T15:08:10.945648",
     "exception": false,
     "start_time": "2025-05-24T15:08:10.927011",
     "status": "completed"
    },
    "tags": []
   },
   "outputs": [],
   "source": [
    "df = pd.get_dummies(df, columns=['Geography', 'Gender'], drop_first=True)\n",
    "#get_dummies: convert categorical variables into dummy/indicator variables\n",
    "#drop_first=True : Removes the first category to avoid redundancy and multicollinearity"
   ]
  },
  {
   "cell_type": "code",
   "execution_count": 13,
   "id": "557fe7f9",
   "metadata": {
    "execution": {
     "iopub.execute_input": "2025-05-24T15:08:10.958598Z",
     "iopub.status.busy": "2025-05-24T15:08:10.958305Z",
     "iopub.status.idle": "2025-05-24T15:08:10.963220Z",
     "shell.execute_reply": "2025-05-24T15:08:10.962386Z"
    },
    "papermill": {
     "duration": 0.012945,
     "end_time": "2025-05-24T15:08:10.964547",
     "exception": false,
     "start_time": "2025-05-24T15:08:10.951602",
     "status": "completed"
    },
    "tags": []
   },
   "outputs": [
    {
     "name": "stdout",
     "output_type": "stream",
     "text": [
      "Index(['CreditScore', 'Age', 'Tenure', 'Balance', 'NumOfProducts', 'HasCrCard',\n",
      "       'IsActiveMember', 'EstimatedSalary', 'Exited', 'Geography_Germany',\n",
      "       'Geography_Spain', 'Gender_Male'],\n",
      "      dtype='object')\n"
     ]
    }
   ],
   "source": [
    "print(df.columns)\n"
   ]
  },
  {
   "cell_type": "code",
   "execution_count": 14,
   "id": "daec8ff6",
   "metadata": {
    "execution": {
     "iopub.execute_input": "2025-05-24T15:08:10.977408Z",
     "iopub.status.busy": "2025-05-24T15:08:10.977150Z",
     "iopub.status.idle": "2025-05-24T15:08:12.385883Z",
     "shell.execute_reply": "2025-05-24T15:08:12.385153Z"
    },
    "papermill": {
     "duration": 1.416809,
     "end_time": "2025-05-24T15:08:12.387383",
     "exception": false,
     "start_time": "2025-05-24T15:08:10.970574",
     "status": "completed"
    },
    "tags": []
   },
   "outputs": [],
   "source": [
    "X=df.drop(columns=['Exited'])\n",
    "y=df['Exited']\n",
    "from sklearn.model_selection import train_test_split\n",
    "X_train,X_test,y_train,y_test=train_test_split(X,y,test_size=0.2,random_state=1)\n",
    "#by this, we split the data set into two parts: one will be used to train model, other to test it.\n",
    "#test size is the part of the data that will be used to test model\n",
    "#random state: controls the random number generator used to shuffle the data before splitting it."
   ]
  },
  {
   "cell_type": "code",
   "execution_count": 15,
   "id": "c7911f3a",
   "metadata": {
    "execution": {
     "iopub.execute_input": "2025-05-24T15:08:12.401219Z",
     "iopub.status.busy": "2025-05-24T15:08:12.400344Z",
     "iopub.status.idle": "2025-05-24T15:08:12.415352Z",
     "shell.execute_reply": "2025-05-24T15:08:12.414582Z"
    },
    "papermill": {
     "duration": 0.023048,
     "end_time": "2025-05-24T15:08:12.416605",
     "exception": false,
     "start_time": "2025-05-24T15:08:12.393557",
     "status": "completed"
    },
    "tags": []
   },
   "outputs": [
    {
     "data": {
      "text/html": [
       "<div>\n",
       "<style scoped>\n",
       "    .dataframe tbody tr th:only-of-type {\n",
       "        vertical-align: middle;\n",
       "    }\n",
       "\n",
       "    .dataframe tbody tr th {\n",
       "        vertical-align: top;\n",
       "    }\n",
       "\n",
       "    .dataframe thead th {\n",
       "        text-align: right;\n",
       "    }\n",
       "</style>\n",
       "<table border=\"1\" class=\"dataframe\">\n",
       "  <thead>\n",
       "    <tr style=\"text-align: right;\">\n",
       "      <th></th>\n",
       "      <th>CreditScore</th>\n",
       "      <th>Age</th>\n",
       "      <th>Tenure</th>\n",
       "      <th>Balance</th>\n",
       "      <th>NumOfProducts</th>\n",
       "      <th>HasCrCard</th>\n",
       "      <th>IsActiveMember</th>\n",
       "      <th>EstimatedSalary</th>\n",
       "      <th>Geography_Germany</th>\n",
       "      <th>Geography_Spain</th>\n",
       "      <th>Gender_Male</th>\n",
       "    </tr>\n",
       "  </thead>\n",
       "  <tbody>\n",
       "    <tr>\n",
       "      <th>0</th>\n",
       "      <td>619</td>\n",
       "      <td>42</td>\n",
       "      <td>2</td>\n",
       "      <td>0.00</td>\n",
       "      <td>1</td>\n",
       "      <td>1</td>\n",
       "      <td>1</td>\n",
       "      <td>101348.88</td>\n",
       "      <td>False</td>\n",
       "      <td>False</td>\n",
       "      <td>False</td>\n",
       "    </tr>\n",
       "    <tr>\n",
       "      <th>1</th>\n",
       "      <td>608</td>\n",
       "      <td>41</td>\n",
       "      <td>1</td>\n",
       "      <td>83807.86</td>\n",
       "      <td>1</td>\n",
       "      <td>0</td>\n",
       "      <td>1</td>\n",
       "      <td>112542.58</td>\n",
       "      <td>False</td>\n",
       "      <td>True</td>\n",
       "      <td>False</td>\n",
       "    </tr>\n",
       "    <tr>\n",
       "      <th>2</th>\n",
       "      <td>502</td>\n",
       "      <td>42</td>\n",
       "      <td>8</td>\n",
       "      <td>159660.80</td>\n",
       "      <td>3</td>\n",
       "      <td>1</td>\n",
       "      <td>0</td>\n",
       "      <td>113931.57</td>\n",
       "      <td>False</td>\n",
       "      <td>False</td>\n",
       "      <td>False</td>\n",
       "    </tr>\n",
       "    <tr>\n",
       "      <th>3</th>\n",
       "      <td>699</td>\n",
       "      <td>39</td>\n",
       "      <td>1</td>\n",
       "      <td>0.00</td>\n",
       "      <td>2</td>\n",
       "      <td>0</td>\n",
       "      <td>0</td>\n",
       "      <td>93826.63</td>\n",
       "      <td>False</td>\n",
       "      <td>False</td>\n",
       "      <td>False</td>\n",
       "    </tr>\n",
       "    <tr>\n",
       "      <th>4</th>\n",
       "      <td>850</td>\n",
       "      <td>43</td>\n",
       "      <td>2</td>\n",
       "      <td>125510.82</td>\n",
       "      <td>1</td>\n",
       "      <td>1</td>\n",
       "      <td>1</td>\n",
       "      <td>79084.10</td>\n",
       "      <td>False</td>\n",
       "      <td>True</td>\n",
       "      <td>False</td>\n",
       "    </tr>\n",
       "    <tr>\n",
       "      <th>...</th>\n",
       "      <td>...</td>\n",
       "      <td>...</td>\n",
       "      <td>...</td>\n",
       "      <td>...</td>\n",
       "      <td>...</td>\n",
       "      <td>...</td>\n",
       "      <td>...</td>\n",
       "      <td>...</td>\n",
       "      <td>...</td>\n",
       "      <td>...</td>\n",
       "      <td>...</td>\n",
       "    </tr>\n",
       "    <tr>\n",
       "      <th>9995</th>\n",
       "      <td>771</td>\n",
       "      <td>39</td>\n",
       "      <td>5</td>\n",
       "      <td>0.00</td>\n",
       "      <td>2</td>\n",
       "      <td>1</td>\n",
       "      <td>0</td>\n",
       "      <td>96270.64</td>\n",
       "      <td>False</td>\n",
       "      <td>False</td>\n",
       "      <td>True</td>\n",
       "    </tr>\n",
       "    <tr>\n",
       "      <th>9996</th>\n",
       "      <td>516</td>\n",
       "      <td>35</td>\n",
       "      <td>10</td>\n",
       "      <td>57369.61</td>\n",
       "      <td>1</td>\n",
       "      <td>1</td>\n",
       "      <td>1</td>\n",
       "      <td>101699.77</td>\n",
       "      <td>False</td>\n",
       "      <td>False</td>\n",
       "      <td>True</td>\n",
       "    </tr>\n",
       "    <tr>\n",
       "      <th>9997</th>\n",
       "      <td>709</td>\n",
       "      <td>36</td>\n",
       "      <td>7</td>\n",
       "      <td>0.00</td>\n",
       "      <td>1</td>\n",
       "      <td>0</td>\n",
       "      <td>1</td>\n",
       "      <td>42085.58</td>\n",
       "      <td>False</td>\n",
       "      <td>False</td>\n",
       "      <td>False</td>\n",
       "    </tr>\n",
       "    <tr>\n",
       "      <th>9998</th>\n",
       "      <td>772</td>\n",
       "      <td>42</td>\n",
       "      <td>3</td>\n",
       "      <td>75075.31</td>\n",
       "      <td>2</td>\n",
       "      <td>1</td>\n",
       "      <td>0</td>\n",
       "      <td>92888.52</td>\n",
       "      <td>True</td>\n",
       "      <td>False</td>\n",
       "      <td>True</td>\n",
       "    </tr>\n",
       "    <tr>\n",
       "      <th>9999</th>\n",
       "      <td>792</td>\n",
       "      <td>28</td>\n",
       "      <td>4</td>\n",
       "      <td>130142.79</td>\n",
       "      <td>1</td>\n",
       "      <td>1</td>\n",
       "      <td>0</td>\n",
       "      <td>38190.78</td>\n",
       "      <td>False</td>\n",
       "      <td>False</td>\n",
       "      <td>False</td>\n",
       "    </tr>\n",
       "  </tbody>\n",
       "</table>\n",
       "<p>10000 rows × 11 columns</p>\n",
       "</div>"
      ],
      "text/plain": [
       "      CreditScore  Age  Tenure    Balance  NumOfProducts  HasCrCard  \\\n",
       "0             619   42       2       0.00              1          1   \n",
       "1             608   41       1   83807.86              1          0   \n",
       "2             502   42       8  159660.80              3          1   \n",
       "3             699   39       1       0.00              2          0   \n",
       "4             850   43       2  125510.82              1          1   \n",
       "...           ...  ...     ...        ...            ...        ...   \n",
       "9995          771   39       5       0.00              2          1   \n",
       "9996          516   35      10   57369.61              1          1   \n",
       "9997          709   36       7       0.00              1          0   \n",
       "9998          772   42       3   75075.31              2          1   \n",
       "9999          792   28       4  130142.79              1          1   \n",
       "\n",
       "      IsActiveMember  EstimatedSalary  Geography_Germany  Geography_Spain  \\\n",
       "0                  1        101348.88              False            False   \n",
       "1                  1        112542.58              False             True   \n",
       "2                  0        113931.57              False            False   \n",
       "3                  0         93826.63              False            False   \n",
       "4                  1         79084.10              False             True   \n",
       "...              ...              ...                ...              ...   \n",
       "9995               0         96270.64              False            False   \n",
       "9996               1        101699.77              False            False   \n",
       "9997               1         42085.58              False            False   \n",
       "9998               0         92888.52               True            False   \n",
       "9999               0         38190.78              False            False   \n",
       "\n",
       "      Gender_Male  \n",
       "0           False  \n",
       "1           False  \n",
       "2           False  \n",
       "3           False  \n",
       "4           False  \n",
       "...           ...  \n",
       "9995         True  \n",
       "9996         True  \n",
       "9997        False  \n",
       "9998         True  \n",
       "9999        False  \n",
       "\n",
       "[10000 rows x 11 columns]"
      ]
     },
     "execution_count": 15,
     "metadata": {},
     "output_type": "execute_result"
    }
   ],
   "source": [
    "X\n"
   ]
  },
  {
   "cell_type": "code",
   "execution_count": 16,
   "id": "757755e0",
   "metadata": {
    "execution": {
     "iopub.execute_input": "2025-05-24T15:08:12.430024Z",
     "iopub.status.busy": "2025-05-24T15:08:12.429736Z",
     "iopub.status.idle": "2025-05-24T15:08:12.434742Z",
     "shell.execute_reply": "2025-05-24T15:08:12.433923Z"
    },
    "papermill": {
     "duration": 0.013064,
     "end_time": "2025-05-24T15:08:12.435999",
     "exception": false,
     "start_time": "2025-05-24T15:08:12.422935",
     "status": "completed"
    },
    "tags": []
   },
   "outputs": [
    {
     "data": {
      "text/plain": [
       "(8000, 11)"
      ]
     },
     "execution_count": 16,
     "metadata": {},
     "output_type": "execute_result"
    }
   ],
   "source": [
    "X_train.shape"
   ]
  },
  {
   "cell_type": "code",
   "execution_count": 17,
   "id": "730a01e0",
   "metadata": {
    "execution": {
     "iopub.execute_input": "2025-05-24T15:08:12.449909Z",
     "iopub.status.busy": "2025-05-24T15:08:12.449316Z",
     "iopub.status.idle": "2025-05-24T15:08:12.479148Z",
     "shell.execute_reply": "2025-05-24T15:08:12.478214Z"
    },
    "papermill": {
     "duration": 0.038185,
     "end_time": "2025-05-24T15:08:12.480578",
     "exception": false,
     "start_time": "2025-05-24T15:08:12.442393",
     "status": "completed"
    },
    "tags": []
   },
   "outputs": [],
   "source": [
    "from sklearn.preprocessing import StandardScaler\n",
    "scaler=StandardScaler()\n",
    "\n",
    "X_train_scaled=scaler.fit_transform(X_train)\n",
    "X_test_scaled=scaler.fit_transform(X_test)\n",
    "#standardscaler: adjusts data to have a mean of 0 and standard deviation of 1\n",
    "#fit:compute the mean and std dev for a given feature\n",
    "#transform:perform scaling using mean and std dev calculated using the .fit() method.\n",
    "#fit_transform:does both fits and transform\n"
   ]
  },
  {
   "cell_type": "code",
   "execution_count": 18,
   "id": "f8e4bb91",
   "metadata": {
    "execution": {
     "iopub.execute_input": "2025-05-24T15:08:12.495235Z",
     "iopub.status.busy": "2025-05-24T15:08:12.494151Z",
     "iopub.status.idle": "2025-05-24T15:08:12.500631Z",
     "shell.execute_reply": "2025-05-24T15:08:12.499912Z"
    },
    "papermill": {
     "duration": 0.014783,
     "end_time": "2025-05-24T15:08:12.501779",
     "exception": false,
     "start_time": "2025-05-24T15:08:12.486996",
     "status": "completed"
    },
    "tags": []
   },
   "outputs": [
    {
     "data": {
      "text/plain": [
       "array([[-0.23082038, -0.94449979, -0.70174202, ...,  1.71490137,\n",
       "        -0.57273139,  0.91509065],\n",
       "       [-0.25150912, -0.94449979, -0.35520275, ..., -0.58312392,\n",
       "        -0.57273139, -1.09278791],\n",
       "       [-0.3963303 ,  0.77498705,  0.33787579, ...,  1.71490137,\n",
       "        -0.57273139, -1.09278791],\n",
       "       ...,\n",
       "       [ 0.22433188,  0.58393295,  1.3774936 , ..., -0.58312392,\n",
       "        -0.57273139, -1.09278791],\n",
       "       [ 0.13123255,  0.01077067,  1.03095433, ..., -0.58312392,\n",
       "        -0.57273139, -1.09278791],\n",
       "       [ 1.1656695 ,  0.29735181,  0.33787579, ...,  1.71490137,\n",
       "        -0.57273139,  0.91509065]])"
      ]
     },
     "execution_count": 18,
     "metadata": {},
     "output_type": "execute_result"
    }
   ],
   "source": [
    "X_train_scaled"
   ]
  },
  {
   "cell_type": "code",
   "execution_count": 19,
   "id": "6130cd26",
   "metadata": {
    "execution": {
     "iopub.execute_input": "2025-05-24T15:08:12.515775Z",
     "iopub.status.busy": "2025-05-24T15:08:12.515478Z",
     "iopub.status.idle": "2025-05-24T15:08:28.337774Z",
     "shell.execute_reply": "2025-05-24T15:08:28.336985Z"
    },
    "papermill": {
     "duration": 15.831476,
     "end_time": "2025-05-24T15:08:28.339728",
     "exception": false,
     "start_time": "2025-05-24T15:08:12.508252",
     "status": "completed"
    },
    "tags": []
   },
   "outputs": [
    {
     "name": "stderr",
     "output_type": "stream",
     "text": [
      "2025-05-24 15:08:14.437645: E external/local_xla/xla/stream_executor/cuda/cuda_fft.cc:477] Unable to register cuFFT factory: Attempting to register factory for plugin cuFFT when one has already been registered\n",
      "WARNING: All log messages before absl::InitializeLog() is called are written to STDERR\n",
      "E0000 00:00:1748099294.668166      13 cuda_dnn.cc:8310] Unable to register cuDNN factory: Attempting to register factory for plugin cuDNN when one has already been registered\n",
      "E0000 00:00:1748099294.732941      13 cuda_blas.cc:1418] Unable to register cuBLAS factory: Attempting to register factory for plugin cuBLAS when one has already been registered\n"
     ]
    }
   ],
   "source": [
    "import tensorflow\n",
    "from tensorflow import keras \n",
    "from tensorflow.keras import Sequential\n",
    "from tensorflow.keras.layers import Dense"
   ]
  },
  {
   "cell_type": "code",
   "execution_count": 20,
   "id": "5c2c4e07",
   "metadata": {
    "execution": {
     "iopub.execute_input": "2025-05-24T15:08:28.354586Z",
     "iopub.status.busy": "2025-05-24T15:08:28.354043Z",
     "iopub.status.idle": "2025-05-24T15:08:28.438674Z",
     "shell.execute_reply": "2025-05-24T15:08:28.437877Z"
    },
    "papermill": {
     "duration": 0.093501,
     "end_time": "2025-05-24T15:08:28.440153",
     "exception": false,
     "start_time": "2025-05-24T15:08:28.346652",
     "status": "completed"
    },
    "tags": []
   },
   "outputs": [
    {
     "name": "stderr",
     "output_type": "stream",
     "text": [
      "/usr/local/lib/python3.11/dist-packages/keras/src/layers/core/dense.py:87: UserWarning: Do not pass an `input_shape`/`input_dim` argument to a layer. When using Sequential models, prefer using an `Input(shape)` object as the first layer in the model instead.\n",
      "  super().__init__(activity_regularizer=activity_regularizer, **kwargs)\n",
      "2025-05-24 15:08:28.365151: E external/local_xla/xla/stream_executor/cuda/cuda_driver.cc:152] failed call to cuInit: INTERNAL: CUDA error: Failed call to cuInit: UNKNOWN ERROR (303)\n"
     ]
    }
   ],
   "source": [
    "model = Sequential()\n",
    "\n",
    "model.add(Dense(11,activation='relu',input_dim=11))\n",
    "model.add(Dense(11,activation='relu'))\n",
    "model.add(Dense(1,activation='sigmoid'))\n",
    "\n",
    "#sequential:for a plain stack of layers where each layer has exactly one input tensor and one output tensor.\n",
    "#Sigmoid is equivalent to a 2-element softmax, where the second element is assumed to be zero. \n",
    "#The sigmoid function always returns a value between 0 and 1.\n",
    "#RELU: Applies the rectified linear unit activation function.\n",
    "#With default values, this returns the standard ReLU activation: max(x, 0), the element-wise maximum of 0 and the input tensor."
   ]
  },
  {
   "cell_type": "code",
   "execution_count": 21,
   "id": "e061adaa",
   "metadata": {
    "execution": {
     "iopub.execute_input": "2025-05-24T15:08:28.454670Z",
     "iopub.status.busy": "2025-05-24T15:08:28.454411Z",
     "iopub.status.idle": "2025-05-24T15:08:28.470018Z",
     "shell.execute_reply": "2025-05-24T15:08:28.469350Z"
    },
    "papermill": {
     "duration": 0.024303,
     "end_time": "2025-05-24T15:08:28.471388",
     "exception": false,
     "start_time": "2025-05-24T15:08:28.447085",
     "status": "completed"
    },
    "tags": []
   },
   "outputs": [
    {
     "data": {
      "text/html": [
       "<pre style=\"white-space:pre;overflow-x:auto;line-height:normal;font-family:Menlo,'DejaVu Sans Mono',consolas,'Courier New',monospace\"><span style=\"font-weight: bold\">Model: \"sequential\"</span>\n",
       "</pre>\n"
      ],
      "text/plain": [
       "\u001b[1mModel: \"sequential\"\u001b[0m\n"
      ]
     },
     "metadata": {},
     "output_type": "display_data"
    },
    {
     "data": {
      "text/html": [
       "<pre style=\"white-space:pre;overflow-x:auto;line-height:normal;font-family:Menlo,'DejaVu Sans Mono',consolas,'Courier New',monospace\">┏━━━━━━━━━━━━━━━━━━━━━━━━━━━━━━━━━━━━━━┳━━━━━━━━━━━━━━━━━━━━━━━━━━━━━┳━━━━━━━━━━━━━━━━━┓\n",
       "┃<span style=\"font-weight: bold\"> Layer (type)                         </span>┃<span style=\"font-weight: bold\"> Output Shape                </span>┃<span style=\"font-weight: bold\">         Param # </span>┃\n",
       "┡━━━━━━━━━━━━━━━━━━━━━━━━━━━━━━━━━━━━━━╇━━━━━━━━━━━━━━━━━━━━━━━━━━━━━╇━━━━━━━━━━━━━━━━━┩\n",
       "│ dense (<span style=\"color: #0087ff; text-decoration-color: #0087ff\">Dense</span>)                        │ (<span style=\"color: #00d7ff; text-decoration-color: #00d7ff\">None</span>, <span style=\"color: #00af00; text-decoration-color: #00af00\">11</span>)                  │             <span style=\"color: #00af00; text-decoration-color: #00af00\">132</span> │\n",
       "├──────────────────────────────────────┼─────────────────────────────┼─────────────────┤\n",
       "│ dense_1 (<span style=\"color: #0087ff; text-decoration-color: #0087ff\">Dense</span>)                      │ (<span style=\"color: #00d7ff; text-decoration-color: #00d7ff\">None</span>, <span style=\"color: #00af00; text-decoration-color: #00af00\">11</span>)                  │             <span style=\"color: #00af00; text-decoration-color: #00af00\">132</span> │\n",
       "├──────────────────────────────────────┼─────────────────────────────┼─────────────────┤\n",
       "│ dense_2 (<span style=\"color: #0087ff; text-decoration-color: #0087ff\">Dense</span>)                      │ (<span style=\"color: #00d7ff; text-decoration-color: #00d7ff\">None</span>, <span style=\"color: #00af00; text-decoration-color: #00af00\">1</span>)                   │              <span style=\"color: #00af00; text-decoration-color: #00af00\">12</span> │\n",
       "└──────────────────────────────────────┴─────────────────────────────┴─────────────────┘\n",
       "</pre>\n"
      ],
      "text/plain": [
       "┏━━━━━━━━━━━━━━━━━━━━━━━━━━━━━━━━━━━━━━┳━━━━━━━━━━━━━━━━━━━━━━━━━━━━━┳━━━━━━━━━━━━━━━━━┓\n",
       "┃\u001b[1m \u001b[0m\u001b[1mLayer (type)                        \u001b[0m\u001b[1m \u001b[0m┃\u001b[1m \u001b[0m\u001b[1mOutput Shape               \u001b[0m\u001b[1m \u001b[0m┃\u001b[1m \u001b[0m\u001b[1m        Param #\u001b[0m\u001b[1m \u001b[0m┃\n",
       "┡━━━━━━━━━━━━━━━━━━━━━━━━━━━━━━━━━━━━━━╇━━━━━━━━━━━━━━━━━━━━━━━━━━━━━╇━━━━━━━━━━━━━━━━━┩\n",
       "│ dense (\u001b[38;5;33mDense\u001b[0m)                        │ (\u001b[38;5;45mNone\u001b[0m, \u001b[38;5;34m11\u001b[0m)                  │             \u001b[38;5;34m132\u001b[0m │\n",
       "├──────────────────────────────────────┼─────────────────────────────┼─────────────────┤\n",
       "│ dense_1 (\u001b[38;5;33mDense\u001b[0m)                      │ (\u001b[38;5;45mNone\u001b[0m, \u001b[38;5;34m11\u001b[0m)                  │             \u001b[38;5;34m132\u001b[0m │\n",
       "├──────────────────────────────────────┼─────────────────────────────┼─────────────────┤\n",
       "│ dense_2 (\u001b[38;5;33mDense\u001b[0m)                      │ (\u001b[38;5;45mNone\u001b[0m, \u001b[38;5;34m1\u001b[0m)                   │              \u001b[38;5;34m12\u001b[0m │\n",
       "└──────────────────────────────────────┴─────────────────────────────┴─────────────────┘\n"
      ]
     },
     "metadata": {},
     "output_type": "display_data"
    },
    {
     "data": {
      "text/html": [
       "<pre style=\"white-space:pre;overflow-x:auto;line-height:normal;font-family:Menlo,'DejaVu Sans Mono',consolas,'Courier New',monospace\"><span style=\"font-weight: bold\"> Total params: </span><span style=\"color: #00af00; text-decoration-color: #00af00\">276</span> (1.08 KB)\n",
       "</pre>\n"
      ],
      "text/plain": [
       "\u001b[1m Total params: \u001b[0m\u001b[38;5;34m276\u001b[0m (1.08 KB)\n"
      ]
     },
     "metadata": {},
     "output_type": "display_data"
    },
    {
     "data": {
      "text/html": [
       "<pre style=\"white-space:pre;overflow-x:auto;line-height:normal;font-family:Menlo,'DejaVu Sans Mono',consolas,'Courier New',monospace\"><span style=\"font-weight: bold\"> Trainable params: </span><span style=\"color: #00af00; text-decoration-color: #00af00\">276</span> (1.08 KB)\n",
       "</pre>\n"
      ],
      "text/plain": [
       "\u001b[1m Trainable params: \u001b[0m\u001b[38;5;34m276\u001b[0m (1.08 KB)\n"
      ]
     },
     "metadata": {},
     "output_type": "display_data"
    },
    {
     "data": {
      "text/html": [
       "<pre style=\"white-space:pre;overflow-x:auto;line-height:normal;font-family:Menlo,'DejaVu Sans Mono',consolas,'Courier New',monospace\"><span style=\"font-weight: bold\"> Non-trainable params: </span><span style=\"color: #00af00; text-decoration-color: #00af00\">0</span> (0.00 B)\n",
       "</pre>\n"
      ],
      "text/plain": [
       "\u001b[1m Non-trainable params: \u001b[0m\u001b[38;5;34m0\u001b[0m (0.00 B)\n"
      ]
     },
     "metadata": {},
     "output_type": "display_data"
    }
   ],
   "source": [
    "model.summary()"
   ]
  },
  {
   "cell_type": "code",
   "execution_count": 22,
   "id": "1d06ba71",
   "metadata": {
    "execution": {
     "iopub.execute_input": "2025-05-24T15:08:28.486911Z",
     "iopub.status.busy": "2025-05-24T15:08:28.486598Z",
     "iopub.status.idle": "2025-05-24T15:08:28.500621Z",
     "shell.execute_reply": "2025-05-24T15:08:28.499723Z"
    },
    "papermill": {
     "duration": 0.023491,
     "end_time": "2025-05-24T15:08:28.502124",
     "exception": false,
     "start_time": "2025-05-24T15:08:28.478633",
     "status": "completed"
    },
    "tags": []
   },
   "outputs": [],
   "source": [
    "model.compile(loss='binary_crossentropy',optimizer='Adam',metrics=['accuracy'])\n",
    "#loss-> compute the quantity that a model should seek to minimize during training.\n",
    "#optimizer-> determines how the network will be updated based on the loss function.\n",
    "#binary_cross_entropy->quantifies the difference between the actual class labels (0 or 1) and the predicted probabilities output by the model."
   ]
  },
  {
   "cell_type": "code",
   "execution_count": 23,
   "id": "d500068f",
   "metadata": {
    "execution": {
     "iopub.execute_input": "2025-05-24T15:08:28.517468Z",
     "iopub.status.busy": "2025-05-24T15:08:28.516679Z",
     "iopub.status.idle": "2025-05-24T15:08:35.374535Z",
     "shell.execute_reply": "2025-05-24T15:08:35.373446Z"
    },
    "papermill": {
     "duration": 6.86712,
     "end_time": "2025-05-24T15:08:35.376211",
     "exception": false,
     "start_time": "2025-05-24T15:08:28.509091",
     "status": "completed"
    },
    "tags": []
   },
   "outputs": [
    {
     "name": "stdout",
     "output_type": "stream",
     "text": [
      "Epoch 1/10\n",
      "\u001b[1m200/200\u001b[0m \u001b[32m━━━━━━━━━━━━━━━━━━━━\u001b[0m\u001b[37m\u001b[0m \u001b[1m2s\u001b[0m 3ms/step - accuracy: 0.6455 - loss: 0.6395 - val_accuracy: 0.8006 - val_loss: 0.4808\n",
      "Epoch 2/10\n",
      "\u001b[1m200/200\u001b[0m \u001b[32m━━━━━━━━━━━━━━━━━━━━\u001b[0m\u001b[37m\u001b[0m \u001b[1m0s\u001b[0m 2ms/step - accuracy: 0.8037 - loss: 0.4676 - val_accuracy: 0.8175 - val_loss: 0.4308\n",
      "Epoch 3/10\n",
      "\u001b[1m200/200\u001b[0m \u001b[32m━━━━━━━━━━━━━━━━━━━━\u001b[0m\u001b[37m\u001b[0m \u001b[1m0s\u001b[0m 2ms/step - accuracy: 0.8219 - loss: 0.4343 - val_accuracy: 0.8219 - val_loss: 0.4145\n",
      "Epoch 4/10\n",
      "\u001b[1m200/200\u001b[0m \u001b[32m━━━━━━━━━━━━━━━━━━━━\u001b[0m\u001b[37m\u001b[0m \u001b[1m0s\u001b[0m 2ms/step - accuracy: 0.8275 - loss: 0.4147 - val_accuracy: 0.8219 - val_loss: 0.4072\n",
      "Epoch 5/10\n",
      "\u001b[1m200/200\u001b[0m \u001b[32m━━━━━━━━━━━━━━━━━━━━\u001b[0m\u001b[37m\u001b[0m \u001b[1m0s\u001b[0m 2ms/step - accuracy: 0.8269 - loss: 0.4072 - val_accuracy: 0.8269 - val_loss: 0.4003\n",
      "Epoch 6/10\n",
      "\u001b[1m200/200\u001b[0m \u001b[32m━━━━━━━━━━━━━━━━━━━━\u001b[0m\u001b[37m\u001b[0m \u001b[1m0s\u001b[0m 2ms/step - accuracy: 0.8348 - loss: 0.3918 - val_accuracy: 0.8281 - val_loss: 0.3954\n",
      "Epoch 7/10\n",
      "\u001b[1m200/200\u001b[0m \u001b[32m━━━━━━━━━━━━━━━━━━━━\u001b[0m\u001b[37m\u001b[0m \u001b[1m0s\u001b[0m 2ms/step - accuracy: 0.8333 - loss: 0.3952 - val_accuracy: 0.8313 - val_loss: 0.3919\n",
      "Epoch 8/10\n",
      "\u001b[1m200/200\u001b[0m \u001b[32m━━━━━━━━━━━━━━━━━━━━\u001b[0m\u001b[37m\u001b[0m \u001b[1m0s\u001b[0m 2ms/step - accuracy: 0.8362 - loss: 0.3946 - val_accuracy: 0.8325 - val_loss: 0.3873\n",
      "Epoch 9/10\n",
      "\u001b[1m200/200\u001b[0m \u001b[32m━━━━━━━━━━━━━━━━━━━━\u001b[0m\u001b[37m\u001b[0m \u001b[1m0s\u001b[0m 2ms/step - accuracy: 0.8381 - loss: 0.3879 - val_accuracy: 0.8369 - val_loss: 0.3806\n",
      "Epoch 10/10\n",
      "\u001b[1m200/200\u001b[0m \u001b[32m━━━━━━━━━━━━━━━━━━━━\u001b[0m\u001b[37m\u001b[0m \u001b[1m0s\u001b[0m 2ms/step - accuracy: 0.8532 - loss: 0.3657 - val_accuracy: 0.8425 - val_loss: 0.3743\n"
     ]
    }
   ],
   "source": [
    "history=model.fit(X_train_scaled,y_train,epochs=10,validation_split=0.2)\n",
    "#epochs => measure the number of times the model has seen the entire dataset.\n",
    "#validation_split=>Float between 0 and 1. \n",
    "#it is the fraction of the training data to be used as validation data.\n",
    "#we defined this as history notebook to use it to plot graphs between diff metrics\n"
   ]
  },
  {
   "cell_type": "code",
   "execution_count": 24,
   "id": "3d8d214d",
   "metadata": {
    "execution": {
     "iopub.execute_input": "2025-05-24T15:08:35.400482Z",
     "iopub.status.busy": "2025-05-24T15:08:35.400208Z",
     "iopub.status.idle": "2025-05-24T15:08:35.410021Z",
     "shell.execute_reply": "2025-05-24T15:08:35.409139Z"
    },
    "papermill": {
     "duration": 0.023162,
     "end_time": "2025-05-24T15:08:35.411342",
     "exception": false,
     "start_time": "2025-05-24T15:08:35.388180",
     "status": "completed"
    },
    "tags": []
   },
   "outputs": [
    {
     "data": {
      "text/plain": [
       "[array([[ 0.17222302,  0.04387533, -0.3786796 ,  0.1353516 ,  0.42434537,\n",
       "          0.37160954, -0.07260536,  0.10954025,  0.32287353, -0.11148736,\n",
       "          0.45485386],\n",
       "        [-0.6350491 , -0.23832925,  0.06409699,  0.55625534, -0.14288953,\n",
       "         -0.20652437, -0.0980066 , -0.01377035,  0.26492143,  0.1625078 ,\n",
       "          0.20851639],\n",
       "        [ 0.03817414,  0.07940682,  0.38706723,  0.18801846, -0.13922602,\n",
       "          0.5358523 ,  0.41437495,  0.0457134 , -0.01370219,  0.14060529,\n",
       "         -0.39029068],\n",
       "        [-0.07597991, -0.632862  ,  0.38616958,  0.28409144,  0.27808648,\n",
       "         -0.01558829, -0.16799648, -0.19072153, -0.3810795 , -0.5131158 ,\n",
       "          0.1518691 ],\n",
       "        [-0.02859081, -0.3179309 , -0.00434698, -0.4279099 ,  0.2868271 ,\n",
       "          0.25236088,  0.5849828 , -0.49708813, -0.1885634 , -0.21786946,\n",
       "          0.44330564],\n",
       "        [ 0.24998951, -0.26462856,  0.23006743, -0.29106826,  0.30828622,\n",
       "          0.27892298,  0.6828725 , -0.21183445,  0.22789271,  0.2508908 ,\n",
       "          0.29192793],\n",
       "        [ 0.01711607, -0.23200205,  0.3572451 , -0.31507513,  0.40655223,\n",
       "          0.198223  ,  0.31983498, -0.11331692, -0.62940526,  0.31776732,\n",
       "         -0.07212538],\n",
       "        [-0.06358326,  0.01769944, -0.48148304, -0.2748758 , -0.50623286,\n",
       "          0.5266443 ,  0.36800835,  0.0581558 , -0.38741976,  0.00909695,\n",
       "         -0.48283854],\n",
       "        [-0.6163993 , -0.14464192,  0.33330202,  0.01134192, -0.49732885,\n",
       "         -0.03026091,  0.13234344, -0.51411986, -0.40031376, -0.4783511 ,\n",
       "         -0.70073485],\n",
       "        [ 0.39524832, -0.03290107,  0.3011933 ,  0.5396502 , -0.5717181 ,\n",
       "         -0.02258593,  0.13332467, -0.01328378, -0.5107225 ,  0.29852253,\n",
       "          0.0839228 ],\n",
       "        [-0.40639105,  0.4790088 , -0.24929197, -0.17647557,  0.3010181 ,\n",
       "          0.22398657, -0.43437982,  0.28710383, -0.19209637, -0.02287646,\n",
       "          0.5983231 ]], dtype=float32),\n",
       " array([-0.06133153, -0.04815713,  0.22693454,  0.30836368,  0.30445728,\n",
       "        -0.19953299, -0.02423159, -0.07054934,  0.08242973, -0.05110781,\n",
       "         0.3893062 ], dtype=float32)]"
      ]
     },
     "execution_count": 24,
     "metadata": {},
     "output_type": "execute_result"
    }
   ],
   "source": [
    "model.layers[1].get_weights()"
   ]
  },
  {
   "cell_type": "code",
   "execution_count": 25,
   "id": "a89c83ff",
   "metadata": {
    "execution": {
     "iopub.execute_input": "2025-05-24T15:08:35.435095Z",
     "iopub.status.busy": "2025-05-24T15:08:35.434732Z",
     "iopub.status.idle": "2025-05-24T15:08:35.703390Z",
     "shell.execute_reply": "2025-05-24T15:08:35.702393Z"
    },
    "papermill": {
     "duration": 0.282441,
     "end_time": "2025-05-24T15:08:35.705267",
     "exception": false,
     "start_time": "2025-05-24T15:08:35.422826",
     "status": "completed"
    },
    "tags": []
   },
   "outputs": [
    {
     "name": "stdout",
     "output_type": "stream",
     "text": [
      "\u001b[1m63/63\u001b[0m \u001b[32m━━━━━━━━━━━━━━━━━━━━\u001b[0m\u001b[37m\u001b[0m \u001b[1m0s\u001b[0m 2ms/step  \n"
     ]
    }
   ],
   "source": [
    "y_log=model.predict(X_test_scaled)\n"
   ]
  },
  {
   "cell_type": "code",
   "execution_count": 26,
   "id": "0aab237e",
   "metadata": {
    "execution": {
     "iopub.execute_input": "2025-05-24T15:08:35.731519Z",
     "iopub.status.busy": "2025-05-24T15:08:35.731201Z",
     "iopub.status.idle": "2025-05-24T15:08:35.735635Z",
     "shell.execute_reply": "2025-05-24T15:08:35.734771Z"
    },
    "papermill": {
     "duration": 0.01914,
     "end_time": "2025-05-24T15:08:35.737086",
     "exception": false,
     "start_time": "2025-05-24T15:08:35.717946",
     "status": "completed"
    },
    "tags": []
   },
   "outputs": [],
   "source": [
    "y_pred=np.where(y_log>0.5,1,0)\n",
    "#we considered 0.5 as threshold above which binary value is 1 and below is 0"
   ]
  },
  {
   "cell_type": "code",
   "execution_count": 27,
   "id": "f488fcbf",
   "metadata": {
    "execution": {
     "iopub.execute_input": "2025-05-24T15:08:35.761231Z",
     "iopub.status.busy": "2025-05-24T15:08:35.760927Z",
     "iopub.status.idle": "2025-05-24T15:08:35.768201Z",
     "shell.execute_reply": "2025-05-24T15:08:35.767447Z"
    },
    "papermill": {
     "duration": 0.020777,
     "end_time": "2025-05-24T15:08:35.769480",
     "exception": false,
     "start_time": "2025-05-24T15:08:35.748703",
     "status": "completed"
    },
    "tags": []
   },
   "outputs": [
    {
     "data": {
      "text/plain": [
       "0.8495"
      ]
     },
     "execution_count": 27,
     "metadata": {},
     "output_type": "execute_result"
    }
   ],
   "source": [
    "from sklearn.metrics import accuracy_score\n",
    "accuracy_score(y_test,y_pred)"
   ]
  },
  {
   "cell_type": "code",
   "execution_count": 28,
   "id": "64b208eb",
   "metadata": {
    "execution": {
     "iopub.execute_input": "2025-05-24T15:08:35.793341Z",
     "iopub.status.busy": "2025-05-24T15:08:35.793066Z",
     "iopub.status.idle": "2025-05-24T15:08:35.797310Z",
     "shell.execute_reply": "2025-05-24T15:08:35.796400Z"
    },
    "papermill": {
     "duration": 0.018532,
     "end_time": "2025-05-24T15:08:35.799254",
     "exception": false,
     "start_time": "2025-05-24T15:08:35.780722",
     "status": "completed"
    },
    "tags": []
   },
   "outputs": [],
   "source": [
    "import matplotlib.pyplot as plt"
   ]
  },
  {
   "cell_type": "code",
   "execution_count": 29,
   "id": "6e27ac60",
   "metadata": {
    "execution": {
     "iopub.execute_input": "2025-05-24T15:08:35.823342Z",
     "iopub.status.busy": "2025-05-24T15:08:35.822970Z",
     "iopub.status.idle": "2025-05-24T15:08:35.829143Z",
     "shell.execute_reply": "2025-05-24T15:08:35.828247Z"
    },
    "papermill": {
     "duration": 0.019744,
     "end_time": "2025-05-24T15:08:35.830528",
     "exception": false,
     "start_time": "2025-05-24T15:08:35.810784",
     "status": "completed"
    },
    "tags": []
   },
   "outputs": [
    {
     "data": {
      "text/plain": [
       "{'accuracy': [0.7275000214576721,\n",
       "  0.8129687309265137,\n",
       "  0.8254687786102295,\n",
       "  0.8298437595367432,\n",
       "  0.8321874737739563,\n",
       "  0.8334375023841858,\n",
       "  0.8364062309265137,\n",
       "  0.840624988079071,\n",
       "  0.84375,\n",
       "  0.8482812643051147],\n",
       " 'loss': [0.5729333758354187,\n",
       "  0.44985541701316833,\n",
       "  0.4217974543571472,\n",
       "  0.41070231795310974,\n",
       "  0.4029267132282257,\n",
       "  0.3971996307373047,\n",
       "  0.39082232117652893,\n",
       "  0.38570091128349304,\n",
       "  0.3794300854206085,\n",
       "  0.3735574781894684],\n",
       " 'val_accuracy': [0.8006250262260437,\n",
       "  0.8174999952316284,\n",
       "  0.8218749761581421,\n",
       "  0.8218749761581421,\n",
       "  0.8268749713897705,\n",
       "  0.828125,\n",
       "  0.831250011920929,\n",
       "  0.8324999809265137,\n",
       "  0.8368750214576721,\n",
       "  0.8424999713897705],\n",
       " 'val_loss': [0.48082661628723145,\n",
       "  0.43077582120895386,\n",
       "  0.4145486354827881,\n",
       "  0.4071953594684601,\n",
       "  0.40033310651779175,\n",
       "  0.3954084813594818,\n",
       "  0.3918570578098297,\n",
       "  0.3873162865638733,\n",
       "  0.3805709481239319,\n",
       "  0.3742625117301941]}"
      ]
     },
     "execution_count": 29,
     "metadata": {},
     "output_type": "execute_result"
    }
   ],
   "source": [
    "history.history"
   ]
  },
  {
   "cell_type": "code",
   "execution_count": 30,
   "id": "2ae1dde1",
   "metadata": {
    "execution": {
     "iopub.execute_input": "2025-05-24T15:08:35.855002Z",
     "iopub.status.busy": "2025-05-24T15:08:35.854645Z",
     "iopub.status.idle": "2025-05-24T15:08:36.106210Z",
     "shell.execute_reply": "2025-05-24T15:08:36.105256Z"
    },
    "papermill": {
     "duration": 0.265381,
     "end_time": "2025-05-24T15:08:36.107649",
     "exception": false,
     "start_time": "2025-05-24T15:08:35.842268",
     "status": "completed"
    },
    "tags": []
   },
   "outputs": [
    {
     "data": {
      "text/plain": [
       "[<matplotlib.lines.Line2D at 0x7ba9a7b42690>]"
      ]
     },
     "execution_count": 30,
     "metadata": {},
     "output_type": "execute_result"
    },
    {
     "data": {
      "image/png": "[encoded data removed]",
      "text/plain": [
       "<Figure size 640x480 with 1 Axes>"
      ]
     },
     "metadata": {},
     "output_type": "display_data"
    }
   ],
   "source": [
    "plt.plot(history.history['loss'])\n",
    "plt.plot(history.history['val_loss'])"
   ]
  },
  {
   "cell_type": "code",
   "execution_count": 31,
   "id": "4a27a126",
   "metadata": {
    "execution": {
     "iopub.execute_input": "2025-05-24T15:08:36.195382Z",
     "iopub.status.busy": "2025-05-24T15:08:36.195050Z",
     "iopub.status.idle": "2025-05-24T15:08:36.337900Z",
     "shell.execute_reply": "2025-05-24T15:08:36.336930Z"
    },
    "papermill": {
     "duration": 0.157286,
     "end_time": "2025-05-24T15:08:36.339535",
     "exception": false,
     "start_time": "2025-05-24T15:08:36.182249",
     "status": "completed"
    },
    "tags": []
   },
   "outputs": [
    {
     "data": {
      "text/plain": [
       "[<matplotlib.lines.Line2D at 0x7ba929ffb110>]"
      ]
     },
     "execution_count": 31,
     "metadata": {},
     "output_type": "execute_result"
    },
    {
     "data": {
      "image/png": "[encoded data removed]",
      "text/plain": [
       "<Figure size 640x480 with 1 Axes>"
      ]
     },
     "metadata": {},
     "output_type": "display_data"
    }
   ],
   "source": [
    "plt.plot(history.history['accuracy'])\n",
    "plt.plot(history.history['val_accuracy'])"
   ]
  },
  {
   "cell_type": "code",
   "execution_count": null,
   "id": "a9df9d29",
   "metadata": {
    "papermill": {
     "duration": 0.012579,
     "end_time": "2025-05-24T15:08:36.365401",
     "exception": false,
     "start_time": "2025-05-24T15:08:36.352822",
     "status": "completed"
    },
    "tags": []
   },
   "outputs": [],
   "source": []
  }
 ],
 "metadata": {
  "kaggle": {
   "accelerator": "none",
   "dataSources": [
    {
     "datasetId": 869651,
     "sourceId": 1481789,
     "sourceType": "datasetVersion"
    }
   ],
   "dockerImageVersionId": 31040,
   "isGpuEnabled": false,
   "isInternetEnabled": true,
   "language": "python",
   "sourceType": "notebook"
  },
  "kernelspec": {
   "display_name": "Python 3",
   "language": "python",
   "name": "python3"
  },
  "language_info": {
   "codemirror_mode": {
    "name": "ipython",
    "version": 3
   },
   "file_extension": ".py",
   "mimetype": "text/x-python",
   "name": "python",
   "nbconvert_exporter": "python",
   "pygments_lexer": "ipython3",
   "version": "3.11.11"
  },
  "papermill": {
   "default_parameters": {},
   "duration": 35.116083,
   "end_time": "2025-05-24T15:08:39.354250",
   "environment_variables": {},
   "exception": null,
   "input_path": "__notebook__.ipynb",
   "output_path": "__notebook__.ipynb",
   "parameters": {},
   "start_time": "2025-05-24T15:08:04.238167",
   "version": "2.6.0"
  }
 },
 "nbformat": 4,
 "nbformat_minor": 5
}
